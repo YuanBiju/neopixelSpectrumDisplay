{
 "cells": [
  {
   "cell_type": "code",
   "execution_count": 2,
   "id": "44323d4d",
   "metadata": {},
   "outputs": [
    {
     "ename": "KeyboardInterrupt",
     "evalue": "",
     "output_type": "error",
     "traceback": [
      "\u001b[1;31m---------------------------------------------------------------------------\u001b[0m",
      "\u001b[1;31mKeyboardInterrupt\u001b[0m                         Traceback (most recent call last)",
      "\u001b[1;32m<ipython-input-2-07a4db06620e>\u001b[0m in \u001b[0;36m<module>\u001b[1;34m\u001b[0m\n\u001b[0;32m     36\u001b[0m \u001b[1;33m\u001b[0m\u001b[0m\n\u001b[0;32m     37\u001b[0m \u001b[1;32mwhile\u001b[0m\u001b[1;33m(\u001b[0m\u001b[1;36m1\u001b[0m\u001b[1;33m)\u001b[0m\u001b[1;33m:\u001b[0m\u001b[1;33m\u001b[0m\u001b[1;33m\u001b[0m\u001b[0m\n\u001b[1;32m---> 38\u001b[1;33m     \u001b[0maudio_data\u001b[0m \u001b[1;33m=\u001b[0m \u001b[0mnp\u001b[0m\u001b[1;33m.\u001b[0m\u001b[0mfrombuffer\u001b[0m\u001b[1;33m(\u001b[0m\u001b[0mstream\u001b[0m\u001b[1;33m.\u001b[0m\u001b[0mread\u001b[0m\u001b[1;33m(\u001b[0m\u001b[0mchunk_size\u001b[0m\u001b[1;33m)\u001b[0m\u001b[1;33m,\u001b[0m \u001b[0mdtype\u001b[0m\u001b[1;33m=\u001b[0m\u001b[0mnp\u001b[0m\u001b[1;33m.\u001b[0m\u001b[0mint16\u001b[0m\u001b[1;33m)\u001b[0m\u001b[1;33m\u001b[0m\u001b[1;33m\u001b[0m\u001b[0m\n\u001b[0m\u001b[0;32m     39\u001b[0m     \u001b[0mfft_result\u001b[0m \u001b[1;33m=\u001b[0m \u001b[0mnp\u001b[0m\u001b[1;33m.\u001b[0m\u001b[0mfft\u001b[0m\u001b[1;33m.\u001b[0m\u001b[0mfft\u001b[0m\u001b[1;33m(\u001b[0m\u001b[0maudio_data\u001b[0m\u001b[1;33m)\u001b[0m\u001b[1;33m\u001b[0m\u001b[1;33m\u001b[0m\u001b[0m\n\u001b[0;32m     40\u001b[0m     \u001b[0mfft_magnitude\u001b[0m \u001b[1;33m=\u001b[0m \u001b[0mnp\u001b[0m\u001b[1;33m.\u001b[0m\u001b[0mabs\u001b[0m\u001b[1;33m(\u001b[0m\u001b[0mfft_result\u001b[0m\u001b[1;33m)\u001b[0m\u001b[1;33m\u001b[0m\u001b[1;33m\u001b[0m\u001b[0m\n",
      "\u001b[1;32m~\\anaconda3\\lib\\site-packages\\pyaudio\\__init__.py\u001b[0m in \u001b[0;36mread\u001b[1;34m(self, num_frames, exception_on_overflow)\u001b[0m\n\u001b[0;32m    568\u001b[0m                 raise IOError(\"Not input stream\",\n\u001b[0;32m    569\u001b[0m                               paCanNotReadFromAnOutputOnlyStream)\n\u001b[1;32m--> 570\u001b[1;33m             return pa.read_stream(self._stream, num_frames,\n\u001b[0m\u001b[0;32m    571\u001b[0m                                   exception_on_overflow)\n\u001b[0;32m    572\u001b[0m \u001b[1;33m\u001b[0m\u001b[0m\n",
      "\u001b[1;31mKeyboardInterrupt\u001b[0m: "
     ]
    }
   ],
   "source": [
    "import numpy as np\n",
    "import matplotlib.pyplot as plt\n",
    "import pyaudio\n",
    "import matplotlib.animation as animation\n",
    "\n",
    "import paho.mqtt.publish as publish\n",
    "\n",
    "mqtt_broker = \"192.168.1.6\"\n",
    "topic = \"your-topic\"\n",
    "message = \"Hello, ESP32!\"\n",
    "\n",
    "sendCount = 100\n",
    "\n",
    "# Set up parameters\n",
    "duration = 10  # Total duration for audio capture (in seconds)\n",
    "sample_rate = 44100  # Sample rate\n",
    "chunk_size = 1024  # Number of frames per buffer\n",
    "frequency_bin_width = 100  # Frequency bin width in Hz\n",
    "\n",
    "# Initialize PyAudio\n",
    "p = pyaudio.PyAudio()\n",
    "\n",
    "# Open stream\n",
    "stream = p.open(format=pyaudio.paInt16,\n",
    "                channels=1,\n",
    "                rate=sample_rate,\n",
    "                input=True,\n",
    "                frames_per_buffer=chunk_size)\n",
    "\n",
    "frequencies = np.fft.fftfreq(chunk_size, d=1/sample_rate)\n",
    "\n",
    "# Find the maximum magnitude in each 100 Hz frequency bin\n",
    "max_magnitudes = [1] * len(range(0, len(frequencies), frequency_bin_width))\n",
    "max_magnitude_max = [1] * len(range(0, len(frequencies), frequency_bin_width))\n",
    "max_magnitude_percent = [1] * len(range(0, len(frequencies), frequency_bin_width))\n",
    "    \n",
    "while(1):\n",
    "    audio_data = np.frombuffer(stream.read(chunk_size), dtype=np.int16)\n",
    "    fft_result = np.fft.fft(audio_data)\n",
    "    fft_magnitude = np.abs(fft_result)\n",
    "    \n",
    "    for i in range(0, len(frequencies), frequency_bin_width):\n",
    "        index = int(i/frequency_bin_width)\n",
    "        bin_magnitudes = fft_magnitude[i:i+frequency_bin_width]\n",
    "        max_magnitude = np.max(bin_magnitudes)\n",
    "        max_magnitudes[index] = max_magnitude\n",
    "        if(max_magnitude>max_magnitude_max[index]):\n",
    "            max_magnitude_max[index] = max_magnitude\n",
    "            \n",
    "        max_magnitude_percent[index] = (max_magnitudes[index]/max_magnitude_max[index])*100\n",
    "        \n",
    "#     print(max_magnitude_percent[10])\n",
    "#     if(0 == sendCount):\n",
    "#         sendCount = 100\n",
    "        message = str(max_magnitude_percent[10])\n",
    "        publish.single(topic, message, hostname=mqtt_broker)\n",
    "\n",
    "#     sendCount -= 1\n",
    "        "
   ]
  },
  {
   "cell_type": "code",
   "execution_count": null,
   "id": "11e9c32c",
   "metadata": {},
   "outputs": [],
   "source": []
  },
  {
   "cell_type": "code",
   "execution_count": null,
   "id": "96bbcfc7",
   "metadata": {},
   "outputs": [],
   "source": []
  }
 ],
 "metadata": {
  "kernelspec": {
   "display_name": "Python 3",
   "language": "python",
   "name": "python3"
  }
 },
 "nbformat": 4,
 "nbformat_minor": 5
}
